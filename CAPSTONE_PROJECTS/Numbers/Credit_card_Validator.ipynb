{
 "cells": [
  {
   "cell_type": "markdown",
   "metadata": {},
   "source": [
    "**Credit Card Validator** - Takes in a credit card number from a common credit card vendor (Visa, MasterCard, American Express, Discover) and validates it to make sure that it is a valid number (look into how credit cards use a checksum). [[desertwebdesigns (Python)]](https://bitbucket.org/desertwebdesigns/learn_python/src/master/Numbers/credit_card.py) [[dotslash (Python)]](https://github.com/dotslash/Projects/blob/master/solutions/credit_card_validator.py) [[Barvin (Python)]](https://github.com/Barvin/CodeWars-ByArvin/blob/master/TheLuhnAlgorithm.py) "
   ]
  },
  {
   "cell_type": "markdown",
   "metadata": {},
   "source": [
    "#### Web Scrapping a site for CC Numbers and Types"
   ]
  },
  {
   "cell_type": "markdown",
   "metadata": {},
   "source": [
    "##### Test Credit Card Account Numbers\n",
    "(https://www.paypalobjects.com/en_GB/vhelp/paypalmanager_help/credit_card_numbers.htm)"
   ]
  },
  {
   "cell_type": "code",
   "execution_count": 3,
   "metadata": {},
   "outputs": [],
   "source": [
    "import requests\n",
    "import bs4\n",
    "import re\n",
    "\n",
    "# Web scrapping\n",
    "test_numbers_url = \"https://www.paypalobjects.com/en_GB/vhelp/paypalmanager_help/credit_card_numbers.htm\"\n",
    "result = requests.get(test_numbers_url)\n",
    "soup = bs4.BeautifulSoup(result.text,\"lxml\")\n",
    "\n",
    "# Found where numbers and types are in the HTML\n",
    "soup_types = soup.select(\".whs4\")\n",
    "soup_numbers = soup.select(\".whs5\")\n",
    "# Creating lists with the numbers and types\n",
    "cc_types = []\n",
    "cc_numbers = []\n",
    "\n",
    "for type in soup_types:\n",
    "    cc_types.append(type.getText()[1:])   \n",
    "\n",
    "for num in soup_numbers:\n",
    "    cc_numbers.append(num.getText()[1:])\n",
    "\n",
    "# Formating number list using \"re\", so it cotains only integers (being the definition in index[0])\n",
    "index = 0\n",
    "for num in cc_numbers:\n",
    "    if re.findall(r\"\\d+\",num) != []:\n",
    "        cc_numbers[index] = int(re.findall(r\"\\d+\",num)[0])\n",
    "    index += 1 \n",
    "    \n",
    "# Creating a Dictionary to relate the lists\n",
    "cc_dict = dict(zip(cc_numbers,cc_types))"
   ]
  },
  {
   "cell_type": "code",
   "execution_count": 88,
   "metadata": {},
   "outputs": [
    {
     "data": {
      "text/plain": [
       "dict_keys(['Credit Card Number', 378282246310005, 371449635398431, 378734493671000, 5610591081018250, 30569309025904, 38520000023237, 6011111111111117, 6011000990139424, 3530111333300000, 3566002020360505, 5555555555554444, 5105105105105100, 4111111111111111, 4012888888881881, 4222222222222, 76009244561, 5019717010103742, 6331101999990016])"
      ]
     },
     "execution_count": 88,
     "metadata": {},
     "output_type": "execute_result"
    }
   ],
   "source": [
    "cc_dict.keys()"
   ]
  },
  {
   "cell_type": "markdown",
   "metadata": {},
   "source": [
    "##### Luhn test\n",
    "(https://www.groundlabs.com/blog/anatomy-of-a-credit-card/)"
   ]
  },
  {
   "cell_type": "code",
   "execution_count": 94,
   "metadata": {},
   "outputs": [
    {
     "name": "stdout",
     "output_type": "stream",
     "text": [
      "378282246310005 is a valid credit card number from American Express.\n",
      "\n",
      "371449635398431 is a valid credit card number from American Express.\n",
      "\n",
      "378734493671000 is a valid credit card number from American Express Corporate.\n",
      "\n",
      "5610591081018250 is a valid credit card number from Australian BankCard.\n",
      "\n",
      "30569309025904 is a valid credit card number from Diners Club.\n",
      "\n",
      "38520000023237 is a valid credit card number from Diners Club.\n",
      "\n",
      "6011111111111117 is a valid credit card number from Discover.\n",
      "\n",
      "6011000990139424 is a valid credit card number from Discover.\n",
      "\n",
      "3530111333300000 is a valid credit card number from JCB.\n",
      "\n",
      "3566002020360505 is a valid credit card number from JCB.\n",
      "\n",
      "5555555555554444 is a valid credit card number from MasterCard.\n",
      "\n",
      "5105105105105100 is a valid credit card number from MasterCard.\n",
      "\n",
      "4111111111111111 is a valid credit card number from Visa.\n",
      "\n",
      "4012888888881881 is a valid credit card number from Visa.\n",
      "\n",
      "4222222222222 is a valid credit card number from Visa.\n",
      "\n",
      "76009244561 is an invalid credit card number, be careful!\n",
      "\n",
      "5019717010103742 is a valid credit card number from Dankort (PBS).\n",
      "\n",
      "6331101999990016 is a valid credit card number from Switch/Solo (Paymentech).\n",
      "\n"
     ]
    }
   ],
   "source": [
    "# CHECKING A LIST OF TEST CC NUMBERS\n",
    "\n",
    "for cc_num in cc_numbers[1:]:\n",
    "    \n",
    "    card_number = cc_num\n",
    "    str_card_number = str(card_number)\n",
    "    number_list = []\n",
    "    new_str = \"\"\n",
    "    \n",
    "    # IF NUMBER IS ODD, START COUNT = 1\n",
    "    if len(str_card_number) % 2 == 0:\n",
    "        count = 0\n",
    "    else:\n",
    "        count = 1\n",
    "    \n",
    "    # TURNS INTO A LIST \n",
    "    for num in str_card_number:\n",
    "        number_list.append(num)\n",
    "    \n",
    "    # CHANGES THE LIST, MULTIPLYING EVERY OTHER VALUE x2 (BASED ON LUHN TEST)\n",
    "    for num in number_list[count::2]:\n",
    "        number_list[count] = str(int(num)*2)\n",
    "        count += 2 \n",
    "        \n",
    "    # TURNS INTO A STRING, THIS WAY TRANSFORMING TWO DIGIT NUMBERS INTO 2 ONE DIGIT NUMBERS (BASED ON LUHN TEST)\n",
    "    for num in number_list:\n",
    "        new_str += num\n",
    "    \n",
    "    # TURNING THE NEW STR (WITH UPDATED VALUES) INTO A LIST, FOR THE SUM \n",
    "    number_list = []\n",
    "    for num in new_str:\n",
    "        number_list.append(int(num))\n",
    "    \n",
    "    soma = sum(number_list)\n",
    "    if soma % 10 == 0:\n",
    "        print(f\"{cc_num} is a valid credit card number from {cc_dict[cc_num]}.\\n\")\n",
    "    else:\n",
    "        print(f\"{cc_num} is an invalid credit card number, be careful!\\n\")\n"
   ]
  },
  {
   "cell_type": "code",
   "execution_count": 6,
   "metadata": {},
   "outputs": [
    {
     "name": "stdin",
     "output_type": "stream",
     "text": [
      "Enter de CC number to validate 4545454545454\n"
     ]
    },
    {
     "name": "stdout",
     "output_type": "stream",
     "text": [
      "4545454545454 is an invalid credit card number, be careful!\n",
      "\n"
     ]
    }
   ],
   "source": [
    "# GET CARD NUMBER FROM USER\n",
    "while True:\n",
    "    try:\n",
    "        card_number = int(input(\"Enter de CC number to validate\"))\n",
    "    except:\n",
    "        print(\"That's not a number!\")\n",
    "        continue\n",
    "    if len(str(card_number)) not in range(10,20):\n",
    "        print(\"Number must have between 10 to 19 digits.\")\n",
    "        continue\n",
    "    break\n",
    "str_card_number = str(card_number)\n",
    "number_list = []\n",
    "new_str = \"\"\n",
    "    \n",
    "# IF NUMBER IS ODD, START COUNT = 1\n",
    "if len(str_card_number) % 2 == 0:\n",
    "    count = 0\n",
    "else:\n",
    "    count = 1\n",
    "    \n",
    "# TURNS INTO A LIST \n",
    "for num in str_card_number:\n",
    "    number_list.append(num)\n",
    "    \n",
    "# CHANGES THE LIST, MULTIPLYING EVERY OTHER VALUE x2 (BASED ON LUHN TEST)\n",
    "for num in number_list[count::2]:\n",
    "    number_list[count] = str(int(num)*2)\n",
    "    count += 2 \n",
    "        \n",
    "# TURNS INTO A STRING, THIS WAY TRANSFORMING TWO DIGIT NUMBERS INTO 2 ONE DIGIT NUMBERS (BASED ON LUHN TEST)\n",
    "for num in number_list:\n",
    "    new_str += num\n",
    "    \n",
    "# TURNING THE NEW STR (WITH UPDATED VALUES) INTO A LIST, FOR THE SUM \n",
    "number_list = []\n",
    "for num in new_str:\n",
    "    number_list.append(int(num))\n",
    "    \n",
    "soma = sum(number_list)\n",
    "if soma % 10 == 0:\n",
    "    print(f\"{card_number} is a valid credit card number.\\n\")\n",
    "else:\n",
    "    print(f\"{card_number} is an invalid credit card number, be careful!\\n\")"
   ]
  },
  {
   "cell_type": "code",
   "execution_count": null,
   "metadata": {},
   "outputs": [],
   "source": []
  }
 ],
 "metadata": {
  "kernelspec": {
   "display_name": "Python 3 (ipykernel)",
   "language": "python",
   "name": "python3"
  },
  "language_info": {
   "codemirror_mode": {
    "name": "ipython",
    "version": 3
   },
   "file_extension": ".py",
   "mimetype": "text/x-python",
   "name": "python",
   "nbconvert_exporter": "python",
   "pygments_lexer": "ipython3",
   "version": "3.12.4"
  }
 },
 "nbformat": 4,
 "nbformat_minor": 4
}

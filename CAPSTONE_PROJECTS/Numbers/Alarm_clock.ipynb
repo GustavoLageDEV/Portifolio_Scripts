{
 "cells": [
  {
   "cell_type": "markdown",
   "id": "8c416737-c6d7-482b-ae65-43bae18fb652",
   "metadata": {},
   "source": [
    "**Alarm Clock** - A simple clock where it plays a sound after X number of minutes/seconds or at a particular time. [[smthc (Python)]](https://github.com/smthc/mini_projects/blob/master/alarm.py) "
   ]
  },
  {
   "cell_type": "markdown",
   "id": "198f427a-c4cf-45f4-859a-1dc0be865bc8",
   "metadata": {},
   "source": [
    "perguntar se quer um cronometro ou um despertador para um determinado horario\n",
    "\n",
    "1- para cronometro = timer\n",
    "\n",
    "2- despertador = alarm\n",
    "\n",
    "1 - para testes, limitar a 60 minutos.\n",
    "    min = perguntar minutos (caso queira apenas segundos digite 0 nesse campo)\n",
    "    seg = perguntar segundos\n",
    "\n",
    "    tempo_despertar = tempo_atual/real do ultimo input + (tempo_total_input = min+seg)\n",
    "\n",
    "    tempo_atual == tempo_despertar ---> tocar um som\n",
    "\n",
    "2 - para testes, limitar ao dia atual.\n",
    "    hora = perguntar a hora do despertador (formato 24h)\n",
    "    min = perguntar os minutos do despertador (se quiser hora fechada, digitar 0)\n",
    "\n",
    "    tempo_despertar = dia atual/hora/min\n",
    "\n",
    "    tempo_atual == tempo_despertar ---> tocar um som"
   ]
  },
  {
   "cell_type": "code",
   "execution_count": null,
   "id": "f48c263b-e779-4c09-ba60-54ea8b3a0172",
   "metadata": {},
   "outputs": [],
   "source": [
    "import datetime, time\n",
    "from playsound import playsound\n",
    "\n",
    "def timer_or_alarm():\n",
    "    \n",
    "    while True:\n",
    "        choice = input(\"Type 1 for Timer, or 2 for Alarm\")\n",
    "        if choice not in [\"1\",\"2\"]:\n",
    "            print(\"Invalid input.\")\n",
    "            continue\n",
    "        else:\n",
    "            break\n",
    "\n",
    "    return int(choice)\n",
    "        \n",
    "\n",
    "def input_time(x):\n",
    "\n",
    "    if x == 1:\n",
    "        print(\"This is the timer feature:\\n\")\n",
    "        while True:\n",
    "            try:\n",
    "                min = int(input(\"How many minutes? \"))\n",
    "                sec = int(input(\"How many seconds? \"))\n",
    "            except:\n",
    "                print(\"Invalid, please input an integer.\")\n",
    "                continue\n",
    "            return min*60 + sec\n",
    "\n",
    "    else:\n",
    "        print(\"This is the alarm feature:\\n\")\n",
    "        while True:\n",
    "            try:\n",
    "                hour = int(input(\"Type in what hour: 0-23\"))\n",
    "                min = int(input(\"Type in what minute: \"))\n",
    "            except:\n",
    "                print(\"Invalid, please input an integer.\")\n",
    "                continue\n",
    "            return (hour,min)\n",
    "\n",
    "def timer(i_time):\n",
    "\n",
    "    print(f\"Timer was set to: {i_time//60} minutes and {i_time%60}\")\n",
    "    time.sleep(i_time)\n",
    "\n",
    "    playsound(r\"C:\\Users\\Gustavo Lage\\Desktop\\protagma_ark.wav\")\n",
    "\n",
    "def alarm(i_time):\n",
    "    if i_time[0] < 10:   \n",
    "        hour = \"0\"+str(i_time[0])\n",
    "    else:\n",
    "        hour = str(i_time[0])\n",
    "\n",
    "    if i_time[1] < 10:   \n",
    "        min = \"0\"+str(i_time[1])\n",
    "    else:\n",
    "        min = str(i_time[1])\n",
    "        \n",
    "    target_time = f\"{hour}:{min}:00.000000\"\n",
    "    print(f\"Alarm was set to: {target_time[:8]}\")\n",
    "    while True:\n",
    "        rn = str(datetime.datetime.today().time())\n",
    "        if rn >= target_time:\n",
    "            playsound(r\"C:\\Users\\Gustavo Lage\\Desktop\\protagma_ark.wav\")\n",
    "            break\n",
    "        else:\n",
    "            pass\n",
    "        \n",
    "if __name__ == \"__main__\":\n",
    "    choice = timer_or_alarm()\n",
    "    i_time = input_time(choice)\n",
    "\n",
    "    if choice == 1:\n",
    "        timer(i_time)\n",
    "    else:\n",
    "        alarm(i_time)"
   ]
  },
  {
   "cell_type": "code",
   "execution_count": 65,
   "id": "bd4c2719-482b-4de0-8568-3c05e6bdd01c",
   "metadata": {},
   "outputs": [
    {
     "name": "stdin",
     "output_type": "stream",
     "text": [
      "Type 1 for Timer, or 2 for Alarm 2\n"
     ]
    },
    {
     "name": "stdout",
     "output_type": "stream",
     "text": [
      "This is the alarm feature:\n",
      "\n"
     ]
    },
    {
     "name": "stdin",
     "output_type": "stream",
     "text": [
      "Type in what hour: 0-23 11\n",
      "Type in what minute:  25\n"
     ]
    },
    {
     "name": "stdout",
     "output_type": "stream",
     "text": [
      "Alarm was set to: 11:25:00\n"
     ]
    }
   ],
   "source": [
    "import datetime, time\n",
    "from playsound import playsound\n",
    "\n",
    "def timer_or_alarm():\n",
    "    \n",
    "    while True:\n",
    "        choice = input(\"Type 1 for Timer, or 2 for Alarm\")\n",
    "        if choice not in [\"1\",\"2\"]:\n",
    "            print(\"Invalid input.\")\n",
    "            continue\n",
    "        else:\n",
    "            break\n",
    "\n",
    "    return int(choice)\n",
    "        \n",
    "\n",
    "def input_time(x):\n",
    "\n",
    "    if x == 1:\n",
    "        print(\"This is the timer feature:\\n\")\n",
    "        while True:\n",
    "            try:\n",
    "                min = int(input(\"How many minutes? \"))\n",
    "                sec = int(input(\"How many seconds? \"))\n",
    "            except:\n",
    "                print(\"Invalid, please input an integer.\")\n",
    "                continue\n",
    "            return min*60 + sec\n",
    "\n",
    "    else:\n",
    "        print(\"This is the alarm feature:\\n\")\n",
    "        while True:\n",
    "            try:\n",
    "                hour = int(input(\"Type in what hour: 0-23\"))\n",
    "                min = int(input(\"Type in what minute: \"))\n",
    "            except:\n",
    "                print(\"Invalid, please input an integer.\")\n",
    "                continue\n",
    "            return (hour,min)\n",
    "\n",
    "def timer(i_time):\n",
    "\n",
    "    print(f\"Timer was set to: {i_time//60} minutes and {i_time%60}\")\n",
    "    time.sleep(i_time)\n",
    "\n",
    "    playsound(r\"C:\\Users\\Gustavo Lage\\Desktop\\protagma_ark.wav\")\n",
    "\n",
    "def alarm(i_time):\n",
    "    \n",
    "    hour = i_time[0]\n",
    "    min = i_time[1]\n",
    "        \n",
    "    target_time = f\"{hour}:{min}:00.000000\"\n",
    "    print(f\"Alarm was set to: {target_time[:8]}\")\n",
    "    \n",
    "    now = datetime.datetime.now()\n",
    "    alarm_time = datetime.datetime.combine(now.date(),datetime.time(hour,min,0))\n",
    "\n",
    "    time.sleep((alarm_time - now).total_seconds())\n",
    "\n",
    "    playsound(r\"C:\\Users\\Gustavo Lage\\Desktop\\protagma_ark.wav\")\n",
    "   \n",
    "if __name__ == \"__main__\":\n",
    "    choice = timer_or_alarm()\n",
    "    i_time = input_time(choice)\n",
    "\n",
    "    if choice == 1:\n",
    "        timer(i_time)\n",
    "    else:\n",
    "        alarm(i_time)"
   ]
  },
  {
   "cell_type": "code",
   "execution_count": 64,
   "id": "0ccb16ed-a001-4265-b0f4-c00b2edff6de",
   "metadata": {},
   "outputs": [
    {
     "data": {
      "text/plain": [
       "datetime.datetime(2024, 8, 13, 11, 17, 58, 460082)"
      ]
     },
     "execution_count": 64,
     "metadata": {},
     "output_type": "execute_result"
    }
   ],
   "source": [
    "datetime.datetime.now()"
   ]
  },
  {
   "cell_type": "code",
   "execution_count": null,
   "id": "4223ad33-8aac-46d3-a737-8e9d84e939aa",
   "metadata": {},
   "outputs": [],
   "source": []
  }
 ],
 "metadata": {
  "kernelspec": {
   "display_name": "Python 3 (ipykernel)",
   "language": "python",
   "name": "python3"
  },
  "language_info": {
   "codemirror_mode": {
    "name": "ipython",
    "version": 3
   },
   "file_extension": ".py",
   "mimetype": "text/x-python",
   "name": "python",
   "nbconvert_exporter": "python",
   "pygments_lexer": "ipython3",
   "version": "3.12.4"
  }
 },
 "nbformat": 4,
 "nbformat_minor": 5
}

{
 "cells": [
  {
   "cell_type": "markdown",
   "metadata": {},
   "source": [
    "**Calculator** - A simple calculator to do basic operators. Make it a scientific calculator for added complexity. [[MrBlaise (Python)]](https://github.com/MrBlaise/learnpython/blob/master/Numbers/calc.py) "
   ]
  },
  {
   "cell_type": "code",
   "execution_count": 14,
   "metadata": {},
   "outputs": [],
   "source": [
    "# CLASS TO CALCULATE\n",
    "\n",
    "class Calculator():\n",
    "\n",
    "    def __init__(self,last_result=0):\n",
    "        self.last_result = last_result\n",
    "\n",
    "    def sum(self,a,b):\n",
    "        return a + b\n",
    "\n",
    "    def minus(self,a,b):\n",
    "        return a - b\n",
    "        \n",
    "    def mult(self,a,b):\n",
    "        return a*b\n",
    "        \n",
    "    def div(self,a,b):\n",
    "        return a/b\n",
    "        \n",
    "    def elevate(self,a,b):\n",
    "        return a**b\n",
    "        \n",
    "    def sqroot(self,a):\n",
    "        return a**0.5\n",
    "                "
   ]
  },
  {
   "cell_type": "code",
   "execution_count": 7,
   "metadata": {
    "scrolled": true
   },
   "outputs": [
    {
     "name": "stdout",
     "output_type": "stream",
     "text": [
      "Welcome to my calculator app.\n"
     ]
    },
    {
     "name": "stdin",
     "output_type": "stream",
     "text": [
      "Insert a number(use . instead of ,): \n",
      " 5\n",
      "Type in the related sign for the desired operation:\n",
      "Addition: +\n",
      "Subtraction:  -\n",
      "Division: /\n",
      "Multiplication: *\n",
      " 8\n",
      "Type in the related sign for the desired operation:\n",
      "Addition: +\n",
      "Subtraction:  -\n",
      "Division: /\n",
      "Multiplication: *\n",
      " 9\n",
      "Type in the related sign for the desired operation:\n",
      "Addition: +\n",
      "Subtraction:  -\n",
      "Division: /\n",
      "Multiplication: *\n",
      " /\n",
      "Insert a number(use . instead of ,): \n",
      " 9\n"
     ]
    },
    {
     "name": "stdout",
     "output_type": "stream",
     "text": [
      " The result of 5.0 / 9.0 is: 0.5555555555555556\n"
     ]
    },
    {
     "name": "stdin",
     "output_type": "stream",
     "text": [
      "Do you want to operate with your last result? Y/N\n",
      " n\n"
     ]
    }
   ],
   "source": [
    "#CALCULATOR FOR USER (With option to keep going with last result)\n",
    "\n",
    "operations = [\"+\",\"-\",\"/\",\"*\"]\n",
    "result = \"\"\n",
    "on = True\n",
    "print(\"Welcome to my calculator app.\")\n",
    "while on:\n",
    "    if result == \"\":\n",
    "        while True:\n",
    "            try:\n",
    "                num1 = float(input(\"Insert a number(use . instead of ,): \\n\"))\n",
    "            except:\n",
    "                print(\"Input needs to be a number!\")\n",
    "                continue\n",
    "            break\n",
    "\n",
    "    op_type = \"\"\n",
    "    while op_type not in operations:\n",
    "        \n",
    "        op_type = input(\"Type in the related sign for the desired operation:\\nAddition: +\\nSubtraction:  -\\nDivision: /\\nMultiplication: *\\n\")\n",
    "        \n",
    "    while True:\n",
    "        try:\n",
    "            num2 = float(input(\"Insert a number(use . instead of ,): \\n\"))\n",
    "        except:\n",
    "            print(\"Input needs to be a number!\")\n",
    "            continue\n",
    "        break\n",
    "\n",
    "    if op_type == \"+\":\n",
    "        result = num1 + num2\n",
    "    if op_type == \"-\":\n",
    "        result = num1 - num2\n",
    "    if op_type == \"/\":\n",
    "        result = num1 / num2\n",
    "    if op_type == \"*\":\n",
    "        result = num1 * num2\n",
    "\n",
    "    print(f\" The result of {num1} {op_type} {num2} is: {result}\")\n",
    "\n",
    "    \n",
    "    \n",
    "    while True:\n",
    "        stop = input(\"Do you want to operate with your last result? Y/N\\n\")\n",
    "        if stop[0].upper() == \"Y\":\n",
    "            num1 = result\n",
    "            break\n",
    "        if stop[0].upper() == \"N\":\n",
    "            result = \"\"\n",
    "            on = False\n",
    "            break\n",
    "        print(\"Please input Y/N.\")\n",
    "        "
   ]
  }
 ],
 "metadata": {
  "kernelspec": {
   "display_name": "Python 3 (ipykernel)",
   "language": "python",
   "name": "python3"
  },
  "language_info": {
   "codemirror_mode": {
    "name": "ipython",
    "version": 3
   },
   "file_extension": ".py",
   "mimetype": "text/x-python",
   "name": "python",
   "nbconvert_exporter": "python",
   "pygments_lexer": "ipython3",
   "version": "3.12.4"
  }
 },
 "nbformat": 4,
 "nbformat_minor": 4
}

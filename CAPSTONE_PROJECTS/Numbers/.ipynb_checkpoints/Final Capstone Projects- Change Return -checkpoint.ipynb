{
 "cells": [
  {
   "cell_type": "markdown",
   "id": "31356ed3-1e5f-48c8-bac8-8424024d773f",
   "metadata": {},
   "source": [
    "**Change Return Program** - The user enters a cost and then the amount of money given. The program will figure out the change and the number of quarters, dimes, nickels, pennies needed for the change. [[Drhealsgood (Python)]](https://github.com/Drhealsgood/miniprojects/blob/master/number_projects/money_changing/money_changing.py) "
   ]
  },
  {
   "cell_type": "code",
   "execution_count": 78,
   "id": "274e6b7e-c311-4561-b55d-7966e8ceabff",
   "metadata": {},
   "outputs": [
    {
     "name": "stdin",
     "output_type": "stream",
     "text": [
      "Please enter the cost:  38.58\n",
      "Please enter the payment:  100\n"
     ]
    },
    {
     "name": "stdout",
     "output_type": "stream",
     "text": [
      "Your change is 61.42. 61 dollars, 1 quarters, 1 dimes, 1 nickels and 2 pennies.\n"
     ]
    }
   ],
   "source": [
    "def change(cost,payment):\n",
    "    # Full change value\n",
    "    change = round(float(payment - cost),2)\n",
    "    full_dollars = int(change//1)\n",
    "    # Getting only the cents\n",
    "    cents = round(change - full_dollars,2)\n",
    "\n",
    "    #0.25 \n",
    "    quarters = int(cents//0.25)\n",
    "    cents = cents - quarters*0.25\n",
    "    cents = round(cents,2)\n",
    "    #0.10\n",
    "    dimes = int(cents//0.1)\n",
    "    cents = cents -dimes*0.1\n",
    "    cents = round(cents,2)\n",
    "    #0.05\n",
    "    nickels = int(cents//0.05)\n",
    "    cents -= nickels*0.05\n",
    "    cents = round(cents,2)\n",
    "    #0.01\n",
    "    pennies = int(cents//0.01)\n",
    "    cents -= pennies*0.01\n",
    "\n",
    "    print(f\"Your change is {change}. {full_dollars} dollars, {quarters} quarters, {dimes} dimes, {nickels} nickels and {pennies} pennies.\")\n",
    "\n",
    "if __name__ == \"__main__\":\n",
    "    cost = float(input(\"Please enter the cost: \"))\n",
    "    payment = float(input(\"Please enter the payment: \"))\n",
    "    change(cost,payment)"
   ]
  },
  {
   "cell_type": "code",
   "execution_count": null,
   "id": "e1b653a7-4179-41bd-9d08-16c53639cb41",
   "metadata": {},
   "outputs": [],
   "source": []
  }
 ],
 "metadata": {
  "kernelspec": {
   "display_name": "Python 3 (ipykernel)",
   "language": "python",
   "name": "python3"
  },
  "language_info": {
   "codemirror_mode": {
    "name": "ipython",
    "version": 3
   },
   "file_extension": ".py",
   "mimetype": "text/x-python",
   "name": "python",
   "nbconvert_exporter": "python",
   "pygments_lexer": "ipython3",
   "version": "3.12.4"
  }
 },
 "nbformat": 4,
 "nbformat_minor": 5
}

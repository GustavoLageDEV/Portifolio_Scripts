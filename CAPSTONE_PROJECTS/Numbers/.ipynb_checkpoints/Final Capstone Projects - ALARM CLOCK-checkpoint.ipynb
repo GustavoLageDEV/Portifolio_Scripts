{
 "cells": [
  {
   "cell_type": "markdown",
   "id": "8c416737-c6d7-482b-ae65-43bae18fb652",
   "metadata": {},
   "source": [
    "**Alarm Clock** - A simple clock where it plays a sound after X number of minutes/seconds or at a particular time. [[smthc (Python)]](https://github.com/smthc/mini_projects/blob/master/alarm.py) "
   ]
  },
  {
   "cell_type": "markdown",
   "id": "198f427a-c4cf-45f4-859a-1dc0be865bc8",
   "metadata": {},
   "source": [
    "perguntar se quer um cronometro ou um despertador para um determinado horario\n",
    "\n",
    "1- para cronometro = timer\n",
    "\n",
    "2- despertador = alarm\n",
    "\n",
    "1 - para testes, limitar a 60 minutos.\n",
    "    min = perguntar minutos (caso queira apenas segundos digite 0 nesse campo)\n",
    "    seg = perguntar segundos\n",
    "\n",
    "    tempo_despertar = tempo_atual/real do ultimo input + (tempo_total_input = min+seg)\n",
    "\n",
    "    tempo_atual == tempo_despertar ---> tocar um som\n",
    "\n",
    "2 - para testes, limitar ao dia atual.\n",
    "    hora = perguntar a hora do despertador (formato 24h)\n",
    "    min = perguntar os minutos do despertador (se quiser hora fechada, digitar 0)\n",
    "\n",
    "    tempo_despertar = dia atual/hora/min\n",
    "\n",
    "    tempo_atual == tempo_despertar ---> tocar um som"
   ]
  },
  {
   "cell_type": "code",
   "execution_count": 1,
   "id": "cd5968fb-295a-4455-ba03-8aa0822097b9",
   "metadata": {},
   "outputs": [],
   "source": [
    "import datetime"
   ]
  },
  {
   "cell_type": "code",
   "execution_count": null,
   "id": "f92d16e9-5209-4df8-a833-eb9919b1f647",
   "metadata": {},
   "outputs": [],
   "source": [
    "def timer():\n",
    "    \n",
    "    while True:\n",
    "        try:\n",
    "            min = int(input(\"How many minutes? \"))\n",
    "            seg = int(input(\"How many seconds? \"))\n",
    "        except:\n",
    "            print(\"Invalid, please input an integer.\")\n",
    "            continue\n",
    "        break\n",
    "\n",
    "    "
   ]
  },
  {
   "cell_type": "code",
   "execution_count": 3,
   "id": "03cb9b0e-cb11-4840-a7f6-a896839eaf60",
   "metadata": {},
   "outputs": [],
   "source": [
    "tempo = datetime.time(0,1,20)"
   ]
  },
  {
   "cell_type": "code",
   "execution_count": 4,
   "id": "54297d42-f9a8-47a2-9c32-5aaaa21617c7",
   "metadata": {},
   "outputs": [
    {
     "data": {
      "text/plain": [
       "1"
      ]
     },
     "execution_count": 4,
     "metadata": {},
     "output_type": "execute_result"
    }
   ],
   "source": [
    "tempo.minute"
   ]
  },
  {
   "cell_type": "code",
   "execution_count": 5,
   "id": "5aea1dfa-f684-486d-913e-768a773915a5",
   "metadata": {},
   "outputs": [
    {
     "data": {
      "text/plain": [
       "20"
      ]
     },
     "execution_count": 5,
     "metadata": {},
     "output_type": "execute_result"
    }
   ],
   "source": [
    "tempo.second"
   ]
  },
  {
   "cell_type": "code",
   "execution_count": 49,
   "id": "1d66195f-4d65-4a30-bfc5-8a28c854f177",
   "metadata": {},
   "outputs": [
    {
     "name": "stdout",
     "output_type": "stream",
     "text": [
      "2024-08-08 11:48:01.691210\n",
      "1723128481.69121\n",
      "2024-08-08 11:49:01.691210\n",
      "1723128541.69121\n"
     ]
    }
   ],
   "source": [
    "hoje = datetime.datetime.today()\n",
    "print(hoje)\n",
    "atual_tempo = hoje.timestamp()\n",
    "print(atual_tempo)\n",
    "tempo_adc = 60 # 60 seconds\n",
    "novo_tempo = atual_tempo + tempo_adc\n",
    "print(hoje.fromtimestamp(novo_tempo))\n",
    "print(novo_tempo)"
   ]
  },
  {
   "cell_type": "code",
   "execution_count": 46,
   "id": "5e0eb04f-87ba-46ba-b623-e202bd32949d",
   "metadata": {},
   "outputs": [
    {
     "data": {
      "text/plain": [
       "datetime.datetime(2024, 8, 8, 11, 44, 32, 963974)"
      ]
     },
     "execution_count": 46,
     "metadata": {},
     "output_type": "execute_result"
    }
   ],
   "source": [
    "hoje.fromtimestamp(atual_tempo)"
   ]
  },
  {
   "cell_type": "code",
   "execution_count": null,
   "id": "d8f6f0a7-f764-471d-8c18-b3769a67efe1",
   "metadata": {},
   "outputs": [],
   "source": [
    "atual_tempo += 60"
   ]
  }
 ],
 "metadata": {
  "kernelspec": {
   "display_name": "Python 3 (ipykernel)",
   "language": "python",
   "name": "python3"
  },
  "language_info": {
   "codemirror_mode": {
    "name": "ipython",
    "version": 3
   },
   "file_extension": ".py",
   "mimetype": "text/x-python",
   "name": "python",
   "nbconvert_exporter": "python",
   "pygments_lexer": "ipython3",
   "version": "3.12.4"
  }
 },
 "nbformat": 4,
 "nbformat_minor": 5
}

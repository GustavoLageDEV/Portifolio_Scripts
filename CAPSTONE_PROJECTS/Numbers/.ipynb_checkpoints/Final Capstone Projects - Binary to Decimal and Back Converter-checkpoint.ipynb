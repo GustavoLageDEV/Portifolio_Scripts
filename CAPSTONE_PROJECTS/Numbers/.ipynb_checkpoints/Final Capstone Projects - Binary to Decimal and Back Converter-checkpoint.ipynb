{
 "cells": [
  {
   "cell_type": "markdown",
   "id": "7f6a7c1a-f9bb-416e-95b9-37d4e3dbe9fc",
   "metadata": {},
   "source": [
    "**Binary to Decimal and Back Converter** - Develop a converter to convert a decimal number to binary or a binary number to its decimal equivalent. [[Drhealsgood (Python)]](https://github.com/Drhealsgood/miniprojects/blob/master/number_projects/conversion/conversions.py) "
   ]
  },
  {
   "cell_type": "code",
   "execution_count": 37,
   "id": "cc182bd2-d976-423e-aa2d-632037af45b4",
   "metadata": {
    "scrolled": true
   },
   "outputs": [
    {
     "name": "stdin",
     "output_type": "stream",
     "text": [
      "Welcome.\n",
      "Type 1 to convert Decimal to a Binary: \n",
      "Type 2 to convert a Binary to a Decimal:  2\n",
      "Type in a number to convert from Binary to Decimal:  1142\n"
     ]
    },
    {
     "name": "stdout",
     "output_type": "stream",
     "text": [
      "This is not a binary number, please try again.\n"
     ]
    },
    {
     "name": "stdin",
     "output_type": "stream",
     "text": [
      "Type in a number to convert from Binary to Decimal:  11001011\n"
     ]
    },
    {
     "name": "stdout",
     "output_type": "stream",
     "text": [
      "\n",
      "The Binary number 11001011 is equal to 203 in Decimal.\n"
     ]
    }
   ],
   "source": [
    "def choice():\n",
    "    while True:\n",
    "        choice = input(\"Welcome.\\nType 1 to convert Decimal to a Binary: \\nType 2 to convert a Binary to a Decimal: \")\n",
    "        if choice in [\"1\",\"2\"]:\n",
    "            return choice\n",
    "        else:\n",
    "            print(\"Invalid input.\")\n",
    "            continue\n",
    "\n",
    "def bin_to_dec(str_num):\n",
    "\n",
    "    num_list = []\n",
    "    for num in str_num:\n",
    "        num_list.append(int(num))\n",
    "\n",
    "    sum = 0\n",
    "    count = 0\n",
    "    for num in num_list[::-1]:\n",
    "        if num == True:\n",
    "            sum += 2**count\n",
    "        count += 1\n",
    "\n",
    "    return sum\n",
    "\n",
    "def dec_to_bin(num):\n",
    "    bin_str = \"\"\n",
    "    while True:\n",
    "        \n",
    "        bin_str += str(num%2)\n",
    "        num = num//2\n",
    "        \n",
    "        if num == 1:\n",
    "            bin_str += \"1\"\n",
    "            while len(bin_str) % 4 != 0:\n",
    "                bin_str += \"0\"\n",
    "            return bin_str[::-1]\n",
    "        if num == 0:\n",
    "            bin_str += \"0\"\n",
    "            while len(bin_str) % 4 != 0:\n",
    "                bin_str += \"0\"\n",
    "            return bin_str[::-1]\n",
    "\n",
    "if __name__ == \"__main__\":\n",
    "    choice = choice()\n",
    "    if choice == \"1\":\n",
    "        while True:\n",
    "            try:\n",
    "                number = int(input(\"Type in a number to convert from Decimal to Binary: \"))\n",
    "            except:\n",
    "                print(\"Please type in an integer.\")\n",
    "                continue\n",
    "            break\n",
    "        print(f\"The Decimal number {number} is equal to {dec_to_bin(number)} in Binary.\")\n",
    "\n",
    "    if choice == \"2\":\n",
    "        bin = False\n",
    "        while bin == False:\n",
    "                number = str(input(\"Type in a number to convert from Binary to Decimal: \"))\n",
    "                for digit in number:\n",
    "                    if digit not in [\"0\",\"1\"]:\n",
    "                        print(\"This is not a binary number, please try again.\")\n",
    "                        bin = False\n",
    "                        break\n",
    "                    else:\n",
    "                        bin = True\n",
    "\n",
    "        print(f\"\\nThe Binary number {number} is equal to {bin_to_dec(number)} in Decimal.\")\n",
    "                "
   ]
  },
  {
   "cell_type": "code",
   "execution_count": 26,
   "id": "f5a41f48-7c3b-482e-af7f-0898f373292d",
   "metadata": {},
   "outputs": [
    {
     "data": {
      "text/plain": [
       "'00011001'"
      ]
     },
     "execution_count": 26,
     "metadata": {},
     "output_type": "execute_result"
    }
   ],
   "source": [
    "# \"01100101\" = 101\n",
    "dec_to_bin(25)"
   ]
  },
  {
   "cell_type": "code",
   "execution_count": 18,
   "id": "3779206c-2cd4-407c-a0dc-fdd7c492625a",
   "metadata": {},
   "outputs": [
    {
     "data": {
      "text/plain": [
       "184"
      ]
     },
     "execution_count": 18,
     "metadata": {},
     "output_type": "execute_result"
    }
   ],
   "source": [
    "bin_to_dec(\"10111000\")"
   ]
  },
  {
   "cell_type": "code",
   "execution_count": 57,
   "id": "95c8f585-5781-4bc7-b5f2-814402111415",
   "metadata": {},
   "outputs": [],
   "source": [
    "name = \"gustavo2\""
   ]
  },
  {
   "cell_type": "code",
   "execution_count": 44,
   "id": "98ad4491-f1b2-41e3-80c9-98f57e11df83",
   "metadata": {},
   "outputs": [
    {
     "data": {
      "text/plain": [
       "'1ovatsug'"
      ]
     },
     "execution_count": 44,
     "metadata": {},
     "output_type": "execute_result"
    }
   ],
   "source": [
    "name[::-1]"
   ]
  },
  {
   "cell_type": "code",
   "execution_count": 45,
   "id": "26dba40e-3824-4fe8-b636-c9cc05add969",
   "metadata": {},
   "outputs": [
    {
     "data": {
      "text/plain": [
       "'gustavo1'"
      ]
     },
     "execution_count": 45,
     "metadata": {},
     "output_type": "execute_result"
    }
   ],
   "source": [
    "name"
   ]
  },
  {
   "cell_type": "code",
   "execution_count": 67,
   "id": "79962684-8e3c-4bc5-8600-8aa78d868b7d",
   "metadata": {},
   "outputs": [
    {
     "name": "stdout",
     "output_type": "stream",
     "text": [
      " gust avo2\n"
     ]
    }
   ],
   "source": [
    "count = 0\n",
    "name1 = \"\"\n",
    "for x in name:\n",
    "    if count % 4 ==0:\n",
    "        name1 += ' ' + x\n",
    "    else:\n",
    "        name1 += x\n",
    "    count += 1\n",
    "\n",
    "print(name1)"
   ]
  },
  {
   "cell_type": "code",
   "execution_count": null,
   "id": "c6290ce2-b29b-4917-a13b-16022696813f",
   "metadata": {},
   "outputs": [],
   "source": []
  }
 ],
 "metadata": {
  "kernelspec": {
   "display_name": "Python 3 (ipykernel)",
   "language": "python",
   "name": "python3"
  },
  "language_info": {
   "codemirror_mode": {
    "name": "ipython",
    "version": 3
   },
   "file_extension": ".py",
   "mimetype": "text/x-python",
   "name": "python",
   "nbconvert_exporter": "python",
   "pygments_lexer": "ipython3",
   "version": "3.12.4"
  }
 },
 "nbformat": 4,
 "nbformat_minor": 5
}

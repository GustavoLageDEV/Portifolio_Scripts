{
 "cells": [
  {
   "cell_type": "markdown",
   "metadata": {},
   "source": [
    "**Find PI to the Nth Digit** - Enter a number and have the program generate &pi; (pi) up to that many decimal places. Keep a limit to how far the program will go."
   ]
  },
  {
   "cell_type": "code",
   "execution_count": 10,
   "metadata": {},
   "outputs": [
    {
     "name": "stdin",
     "output_type": "stream",
     "text": [
      "Please insert how many decimal places should pi be generated: Min = 2 Máx = 48  45\n"
     ]
    },
    {
     "name": "stdout",
     "output_type": "stream",
     "text": [
      " Here is your pi: 3.141592653589793115997963468544185161590576171\n"
     ]
    }
   ],
   "source": [
    "# MY FIRST TRY DOING (but I did not generate pi)\n",
    "\n",
    "from math import pi\n",
    "import decimal as d\n",
    "\n",
    "pi_updated= d.Decimal(pi)\n",
    "pi_string = str(pi_updated)\n",
    "\n",
    "while True: \n",
    "    try:\n",
    "        decimal_digit = int(input(\"Please insert how many decimal places should pi be generated: Min = 2 Máx = 48 \"))\n",
    "        if decimal_digit not in range(2,49):\n",
    "            print(\"Invalid number. Min = 2 Máx = 48\")\n",
    "            continue\n",
    "    except:\n",
    "        print(\"Sorry, thats not a number. Try again.\")\n",
    "        continue\n",
    "    break\n",
    "\n",
    "print(f\" Here is your pi: {pi_string[:(decimal_digit+2)]}\")"
   ]
  },
  {
   "cell_type": "code",
   "execution_count": 5,
   "metadata": {},
   "outputs": [
    {
     "name": "stdin",
     "output_type": "stream",
     "text": [
      "Please insert how many decimal places should pi be generated: Min = 2 Máx = 48  80\n"
     ]
    },
    {
     "name": "stdout",
     "output_type": "stream",
     "text": [
      " Here is your pi: 3.141592653589793115997963468544185161590576171875\n"
     ]
    }
   ],
   "source": [
    "#SECOND TRY (this time I did generate, but did not know how to make more than 48 decimal places)\n",
    "\n",
    "import math\n",
    "import decimal as d\n",
    "from decimal import *\n",
    "getcontext().prec = 100\n",
    "\n",
    "def calculo_pi():\n",
    "\n",
    "    k = 10000\n",
    "    pi_bbp = 0               \n",
    "    for k in range(k):\n",
    "        pi_bbp += (1/(16**k)) * ((4/(8*k+1))-(2/(8*k+4))-(1/(8*k+5))-(1/(8*k+6)))\n",
    "    return pi_bbp\n",
    "\n",
    "def valid_digit_input():\n",
    "    while True: \n",
    "        try:\n",
    "            decimal_digit = int(input(\"Please insert how many decimal places should pi be generated: Min = 2 Máx = 48 \"))\n",
    "            if decimal_digit not in range(2,49):\n",
    "                print(\"Invalid number. Min = 2 Máx = 48\")\n",
    "                continue\n",
    "        except:\n",
    "            print(\"Sorry, thats not a number. Try again.\")\n",
    "            continue\n",
    "        return decimal_digit\n",
    "   \n",
    "pi_updated= d.Decimal(calculo_pi())\n",
    "pi_string = str(pi_updated)\n",
    "decimal_digit = valid_digit_input()\n",
    "\n",
    "print(f\" Here is your pi: {pi_string[:(decimal_digit+2)]}\")"
   ]
  }
 ],
 "metadata": {
  "kernelspec": {
   "display_name": "Python 3 (ipykernel)",
   "language": "python",
   "name": "python3"
  },
  "language_info": {
   "codemirror_mode": {
    "name": "ipython",
    "version": 3
   },
   "file_extension": ".py",
   "mimetype": "text/x-python",
   "name": "python",
   "nbconvert_exporter": "python",
   "pygments_lexer": "ipython3",
   "version": "3.12.4"
  }
 },
 "nbformat": 4,
 "nbformat_minor": 4
}

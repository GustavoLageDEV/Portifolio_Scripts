{
 "cells": [
  {
   "cell_type": "markdown",
   "metadata": {},
   "source": [
    "**Coin Flip Simulation** - Write some code that simulates flipping a single coin however many times the user decides. The code should record the outcomes and count the number of tails and heads. [[scottdchris (Python)]](https://github.com/scottdchris/CoinFlip)  [[dsub15 (Python)]](https://github.com/dsub15/Projects/blob/master/Coin_flip.py)[[mandeepbhutani (Python)]](https://github.com/mandeepbhutani/Sample-Projects/blob/master/CoinFlip.py) "
   ]
  },
  {
   "cell_type": "code",
   "execution_count": 72,
   "metadata": {},
   "outputs": [
    {
     "name": "stdin",
     "output_type": "stream",
     "text": [
      "Hey, please insert how many times you want to flip the coin:  10\n"
     ]
    },
    {
     "name": "stdout",
     "output_type": "stream",
     "text": [
      "\n",
      "Round 1: Heads!\n",
      "\n",
      "Round 2: Tails!\n",
      "\n",
      "Round 3: Heads!\n",
      "\n",
      "Round 4: Tails!\n",
      "\n",
      "Round 5: Tails!\n",
      "\n",
      "Round 6: Heads!\n",
      "\n",
      "Round 7: Tails!\n",
      "\n",
      "Round 8: Heads!\n",
      "\n",
      "Round 9: Heads!\n",
      "\n",
      "Round 10: Tails!\n",
      "\n",
      "Heads flipped: 5\n",
      "Tails flipped: 5\n"
     ]
    }
   ],
   "source": [
    "# FIRST TRY\n",
    "\n",
    "import random \n",
    "\n",
    "def coin_flip():\n",
    "\n",
    "    coin = random.randint(0,1)\n",
    "\n",
    "    return coin\n",
    "    \n",
    "def shell():\n",
    "    count_heads = 0\n",
    "    count_tails = 0\n",
    "    round = 1\n",
    "\n",
    "    while True:\n",
    "        try:\n",
    "            n = int(input(\"Hey, please insert how many times you want to flip the coin: \"))\n",
    "        except:\n",
    "            print(\"Please insert a number: \")\n",
    "            continue\n",
    "        break\n",
    "        \n",
    "    for x in range(n):\n",
    "       \n",
    "        if coin_flip() == 0:\n",
    "            print(f\"\\nRound {round}: Heads!\")\n",
    "            count_heads += 1\n",
    "        else:\n",
    "            print(f\"\\nRound {round}: Tails!\")\n",
    "            count_tails += 1\n",
    "        round +=1\n",
    "\n",
    "    print(f\"\\nHeads flipped: {count_heads}\")\n",
    "    print(f\"Tails flipped: {count_tails}\")\n",
    "\n",
    "if __name__ == \"__main__\":\n",
    "    shell()"
   ]
  },
  {
   "cell_type": "code",
   "execution_count": 8,
   "metadata": {},
   "outputs": [
    {
     "name": "stdin",
     "output_type": "stream",
     "text": [
      "Hey, please insert how many times you want to flip the coin:  10\n"
     ]
    },
    {
     "name": "stdout",
     "output_type": "stream",
     "text": [
      "\n",
      "Heads flipped: 4\n",
      "\n",
      "Tails flipped: 6\n"
     ]
    }
   ],
   "source": [
    "# SECOND TRY\n",
    "\n",
    "import random \n",
    "\n",
    "class Heads_Tails():\n",
    "    \n",
    "    def __init__(self):\n",
    "        self.heads = 0\n",
    "        self.tails = 0\n",
    "        self.historic = {}\n",
    "\n",
    "    def add_round(self, round, result):\n",
    "\n",
    "        self.historic[round] = result\n",
    "\n",
    "        if result.lower() == \"head\":\n",
    "            self.heads += 1\n",
    "        else:\n",
    "            self.tails += 1 \n",
    "\n",
    "    def round(self, n):\n",
    "\n",
    "        print(f\"The flip on round {n} was {self.historic[n]}\")\n",
    "\n",
    "    def __str__(self):\n",
    "\n",
    "        for round, result in self.historic.items():\n",
    "            print(f\"Round {round}: {result}\")\n",
    "        return \"\"\n",
    "\n",
    "def coin_flip():\n",
    "\n",
    "    coin = random.randint(0,1)\n",
    "    if coin == 0:\n",
    "        return \"Head\"\n",
    "    else:\n",
    "        return \"Tail\"\n",
    "    \n",
    "if __name__ == \"__main__\":\n",
    "    historic = Heads_Tails()\n",
    "    round = 1\n",
    "    on = True\n",
    "    while True:\n",
    "        try:\n",
    "            total_rounds = int(input(\"Hey, please insert how many times you want to flip the coin: \"))\n",
    "        except:\n",
    "            print(\"Please insert a number: \")\n",
    "            continue\n",
    "        break\n",
    "            \n",
    "    for x in range(total_rounds):\n",
    "        result = coin_flip()\n",
    "        historic.add_round(round,result)\n",
    "        round +=1\n",
    "        \n",
    "print(f\"\\nHeads flipped: {historic.heads}\")\n",
    "print(f\"\\nTails flipped: {historic.tails}\")"
   ]
  },
  {
   "cell_type": "code",
   "execution_count": 9,
   "metadata": {},
   "outputs": [
    {
     "name": "stdout",
     "output_type": "stream",
     "text": [
      "Round 1: Tail\n",
      "Round 2: Tail\n",
      "Round 3: Tail\n",
      "Round 4: Tail\n",
      "Round 5: Head\n",
      "Round 6: Head\n",
      "Round 7: Tail\n",
      "Round 8: Tail\n",
      "Round 9: Head\n",
      "Round 10: Head\n",
      "\n"
     ]
    }
   ],
   "source": [
    "print(historic)"
   ]
  }
 ],
 "metadata": {
  "kernelspec": {
   "display_name": "Python 3 (ipykernel)",
   "language": "python",
   "name": "python3"
  },
  "language_info": {
   "codemirror_mode": {
    "name": "ipython",
    "version": 3
   },
   "file_extension": ".py",
   "mimetype": "text/x-python",
   "name": "python",
   "nbconvert_exporter": "python",
   "pygments_lexer": "ipython3",
   "version": "3.12.4"
  }
 },
 "nbformat": 4,
 "nbformat_minor": 4
}

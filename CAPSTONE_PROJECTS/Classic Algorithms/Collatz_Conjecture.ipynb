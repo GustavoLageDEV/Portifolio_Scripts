{
 "cells": [
  {
   "cell_type": "markdown",
   "id": "267afb8c-a644-4e52-b226-1ff207a9ba0b",
   "metadata": {},
   "source": [
    "**Collatz Conjecture** - Start with a number *n > 1*. Find the number of steps it takes to reach one using the following process: If *n* is even, divide it by 2. If *n* is odd, multiply it by 3 and add 1. [[EpicDavi (Python)]](https://github.com/EpicDavi/RandomProjects/blob/master/Language%20Challenge%20Stuff/CollatzRecursive.py)[[rramchand (Java)]](https://github.com/rramchand/Projects-Solutions/blob/master/Collatz.java) [[petehuang (Ruby)]](https://github.com/petehuang/Projects/blob/master/Classic%20Algorithms/collatz.rb) [[quitrk (JavaScript)]](https://github.com/quitrk/LearningJS/blob/master/Classic%20Algorithms/00.%20Collatz%20Conjecture.js) [[taycaldwell (Java)]](https://github.com/taycaldwell/Projects/blob/master/Classic%20Algorithms/collatz.java) [[anggiaj (Go)]](https://github.com/anggiaj/Projects/blob/master/Classic%20Algorithms/collatz.go) [[edeng (Java)]](https://github.com/edeng/Problems/blob/master/Collatz.java)[[luisccastillo (C#)]](https://github.com/luisccastillo/Projects/blob/master/Classic%20Algorithms/collatz_cojecture.cs) [[vdrey (Python)]](https://github.com/vdrey/Project-Programs/blob/master/Python/Collatz.py) [[francis36012 (Python)]](https://github.com/francis36012/karan-projects/blob/master/src/classic_algorithms/collatz.py) [[kingballer29 (C++)]](https://github.com/kingballer29/Programming/blob/master/collatzConjecture.cpp)[[manateemilitia (Java)]](https://github.com/manateemilitia/CollatzJava/blob/master/CollatzJava/src/collatzjava/CollatzJava.java) [[viktorahlstrom (Python)]](https://github.com/viktorahlstrom/pythonscripts/blob/master/collatz_conjecture.py)"
   ]
  },
  {
   "cell_type": "code",
   "execution_count": 56,
   "id": "6fd55ffc-66e6-421b-8efd-6b29bcafb5bb",
   "metadata": {},
   "outputs": [],
   "source": [
    "def input_num():\n",
    "    while True:\n",
    "        try:\n",
    "            num = int(input(\"Please input an integer number greater than 1: \"))\n",
    "        except:\n",
    "            print(\"That's not an integer.\")\n",
    "            continue\n",
    "        if num <= 1:\n",
    "            print(\"Integer must be greater than 1.\")\n",
    "            continue\n",
    "            \n",
    "        return num\n",
    "\n",
    "def isodd_even(num):\n",
    "\n",
    "    if num % 2 == 1:\n",
    "        return num*3 + 1\n",
    "    if num % 2 == 0:\n",
    "        return num/2\n",
    "    else:\n",
    "        return num\n",
    " \n",
    "def collatz():\n",
    "\n",
    "    print(\"Welcome to Collatz conjucture: \")\n",
    "    num = input_num()\n",
    "    og_num = num\n",
    "    count = 0\n",
    "    \n",
    "    while True:\n",
    "\n",
    "        new_num = int(isodd_even(num))\n",
    "        count += 1\n",
    "        \n",
    "        print(f\" Step {count}: {num} to {new_num} \")\n",
    "        num = new_num\n",
    "        \n",
    "        if num == 1:\n",
    "            break\n",
    "\n",
    "    print(f\"The number {og_num} takes {count} steps to reach 1 by Collatz Conjecture.\")"
   ]
  },
  {
   "cell_type": "code",
   "execution_count": 57,
   "id": "2f4d305c-022e-41e0-bcce-4d4210b7213f",
   "metadata": {},
   "outputs": [
    {
     "name": "stdout",
     "output_type": "stream",
     "text": [
      "Welcome to Collatz conjucture: \n"
     ]
    },
    {
     "name": "stdin",
     "output_type": "stream",
     "text": [
      "Please input an integer number greater than 1:  50\n"
     ]
    },
    {
     "name": "stdout",
     "output_type": "stream",
     "text": [
      " Step 1: 50 to 25 \n",
      " Step 2: 25 to 76 \n",
      " Step 3: 76 to 38 \n",
      " Step 4: 38 to 19 \n",
      " Step 5: 19 to 58 \n",
      " Step 6: 58 to 29 \n",
      " Step 7: 29 to 88 \n",
      " Step 8: 88 to 44 \n",
      " Step 9: 44 to 22 \n",
      " Step 10: 22 to 11 \n",
      " Step 11: 11 to 34 \n",
      " Step 12: 34 to 17 \n",
      " Step 13: 17 to 52 \n",
      " Step 14: 52 to 26 \n",
      " Step 15: 26 to 13 \n",
      " Step 16: 13 to 40 \n",
      " Step 17: 40 to 20 \n",
      " Step 18: 20 to 10 \n",
      " Step 19: 10 to 5 \n",
      " Step 20: 5 to 16 \n",
      " Step 21: 16 to 8 \n",
      " Step 22: 8 to 4 \n",
      " Step 23: 4 to 2 \n",
      " Step 24: 2 to 1 \n",
      "The number 50 takes 24 steps to reach 1 by Collatz Conjecture.\n"
     ]
    }
   ],
   "source": [
    "collatz()"
   ]
  },
  {
   "cell_type": "code",
   "execution_count": 49,
   "id": "04cde96f-0499-48f6-88f5-21a550679b7b",
   "metadata": {},
   "outputs": [],
   "source": [
    "numero = 10"
   ]
  },
  {
   "cell_type": "code",
   "execution_count": 30,
   "id": "ee02c616-9a09-433d-b332-cab728fdfec6",
   "metadata": {},
   "outputs": [
    {
     "name": "stdout",
     "output_type": "stream",
     "text": [
      "1.0\n"
     ]
    }
   ],
   "source": [
    "numero = iseven(numero)\n",
    "print(numero)"
   ]
  },
  {
   "cell_type": "code",
   "execution_count": 26,
   "id": "227042a6-bc5c-4b31-9b04-c7e2b3dc1d50",
   "metadata": {},
   "outputs": [
    {
     "name": "stdout",
     "output_type": "stream",
     "text": [
      "16.0\n"
     ]
    }
   ],
   "source": [
    "numero = isodd(numero)\n",
    "print (numero)"
   ]
  },
  {
   "cell_type": "code",
   "execution_count": 34,
   "id": "d72199e9-6714-49b5-8abb-b36c2c91b723",
   "metadata": {},
   "outputs": [
    {
     "data": {
      "text/plain": [
       "True"
      ]
     },
     "execution_count": 34,
     "metadata": {},
     "output_type": "execute_result"
    }
   ],
   "source": [
    "numero == 1"
   ]
  },
  {
   "cell_type": "code",
   "execution_count": null,
   "id": "d1c2f1a7-d05b-4e1a-ab0d-10e7e5ddc2b5",
   "metadata": {},
   "outputs": [],
   "source": []
  }
 ],
 "metadata": {
  "kernelspec": {
   "display_name": "Python 3 (ipykernel)",
   "language": "python",
   "name": "python3"
  },
  "language_info": {
   "codemirror_mode": {
    "name": "ipython",
    "version": 3
   },
   "file_extension": ".py",
   "mimetype": "text/x-python",
   "name": "python",
   "nbconvert_exporter": "python",
   "pygments_lexer": "ipython3",
   "version": "3.12.4"
  }
 },
 "nbformat": 4,
 "nbformat_minor": 5
}

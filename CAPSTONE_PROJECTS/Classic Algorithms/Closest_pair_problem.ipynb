{
 "cells": [
  {
   "cell_type": "markdown",
   "id": "edddbaa7-05ca-463f-b334-20856434bfb2",
   "metadata": {},
   "source": [
    "**Closest pair problem** - The closest pair of points problem or closest pair problem is a problem of computational geometry: given *n* points in metric space, find a pair of points with the smallest distance between them. [[dabillox (Python)]](https://github.com/dabillox/pyprojects/blob/master/closestpairproblem.py) [[liuyang1 (Python)]](https://github.com/liuyang1/Projects/blob/master/Classic%20Algorithms/cloestpair.py) [[smac89 (C++)]](https://github.com/smac89/Projects/tree/master/solutions/classic-algorithms/closestpair) [[sijunhe (java)]](https://github.com/sijunhe/Project-Programs/tree/master/java/closest%20Pair)"
   ]
  },
  {
   "cell_type": "code",
   "execution_count": 5,
   "id": "763d30ad-0ce4-4ea9-a4e6-c70d56f2c34f",
   "metadata": {},
   "outputs": [
    {
     "name": "stdout",
     "output_type": "stream",
     "text": [
      "The closest pair of point from [(1, 5), (2, 7), (8, 3), (5, 5)] are: (1, 5) and (2, 7) with a distance of 2.236\n"
     ]
    }
   ],
   "source": [
    "# d=√((x_2-x_1)²+(y_2-y_1)²)\n",
    "\n",
    "all_points = [(1,5),(2,7),(8,3),(5,5)]\n",
    "min_dist = 999999\n",
    "\n",
    "for point in all_points:\n",
    "    \n",
    "     for i in range(len(all_points)):\n",
    "         \n",
    "        x1 = point[0]\n",
    "        y1 = point[1]\n",
    "        x2 = all_points[i][0]\n",
    "        y2 = all_points[i][1]\n",
    "\n",
    "        dist = ((x2-x1)**2 +(y2-y1)**2)**0.5\n",
    "\n",
    "        if dist < min_dist and dist != 0:\n",
    "            min_dist = dist\n",
    "            point1 = point\n",
    "            point2 = all_points[i]\n",
    "\n",
    "print(f\"The closest pair of point from {all_points} are: {point1} and {point2} with a distance of {round(min_dist,3)}\")"
   ]
  }
 ],
 "metadata": {
  "kernelspec": {
   "display_name": "Python 3 (ipykernel)",
   "language": "python",
   "name": "python3"
  },
  "language_info": {
   "codemirror_mode": {
    "name": "ipython",
    "version": 3
   },
   "file_extension": ".py",
   "mimetype": "text/x-python",
   "name": "python",
   "nbconvert_exporter": "python",
   "pygments_lexer": "ipython3",
   "version": "3.12.4"
  }
 },
 "nbformat": 4,
 "nbformat_minor": 5
}

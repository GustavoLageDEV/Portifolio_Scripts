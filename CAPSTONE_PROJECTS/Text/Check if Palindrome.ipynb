{
 "cells": [
  {
   "cell_type": "markdown",
   "id": "90570ca5-b6f0-49f6-ac4e-df80660ce08b",
   "metadata": {},
   "source": [
    "**Check if Palindrome** - Checks if the string entered by the user is a palindrome. That is that it reads the same forwards as backwards like “racecar” [[Drhealsgood (Python)]](https://github.com/Drhealsgood/miniprojects/blob/master/text_projects/string_editing.py) [[JLukeC (Python)]](https://github.com/jLukeC/mega-project-list/blob/master/python/palindrome.py) "
   ]
  },
  {
   "cell_type": "code",
   "execution_count": 14,
   "id": "ecb11064-c340-4c3b-8bf8-45a369d5938d",
   "metadata": {},
   "outputs": [
    {
     "name": "stdout",
     "output_type": "stream",
     "text": [
      "Please insert a string to check for Palindrome:  socorram me subi no onibus em Marrocos\n"
     ]
    },
    {
     "name": "stdout",
     "output_type": "stream",
     "text": [
      "This is a palindrome\n",
      "\n",
      "socorrammesubinoonibusemmarrocos\n",
      "socorrammesubinoonibusemmarrocos\n"
     ]
    }
   ],
   "source": [
    "mystring = str(input(\"Please insert a string to check for Palindrome: \")).lower()\n",
    "mystring = ''.join(mystring.split())\n",
    "    \n",
    "if mystring == mystring[::-1]:\n",
    "    print(\"This is a palindrome\\n\")\n",
    "else:\n",
    "    print(\"Not a palindrome\\n\")\n",
    "    \n",
    "print(mystring)\n",
    "print(mystring[::-1])"
   ]
  }
 ],
 "metadata": {
  "kernelspec": {
   "display_name": "base",
   "language": "python",
   "name": "python3"
  },
  "language_info": {
   "codemirror_mode": {
    "name": "ipython",
    "version": 3
   },
   "file_extension": ".py",
   "mimetype": "text/x-python",
   "name": "python",
   "nbconvert_exporter": "python",
   "pygments_lexer": "ipython3",
   "version": "3.12.4"
  }
 },
 "nbformat": 4,
 "nbformat_minor": 5
}

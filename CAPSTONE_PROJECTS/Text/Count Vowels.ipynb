{
 "cells": [
  {
   "cell_type": "markdown",
   "id": "89451602-cfa0-4e11-9eab-838103d3b0e3",
   "metadata": {},
   "source": [
    "**Count Vowels** - Enter a string and the program counts the number of vowels in the text. For added complexity have it report a sum of each vowel found. [[Drhealsgood (Python)]](https://github.com/Drhealsgood/miniprojects/blob/master/text_projects/string_editing.py) [[JLukeC (Python)]](https://github.com/jLukeC/mega-project-list/blob/master/python/count_vowels.py) "
   ]
  },
  {
   "cell_type": "code",
   "execution_count": 11,
   "id": "120a0161-07eb-47fa-a4c0-b7df7fc3369f",
   "metadata": {},
   "outputs": [
    {
     "name": "stdout",
     "output_type": "stream",
     "text": [
      "Please insert a string, I'll count the number of vowels in it for you:  oi me chamo GUSTAVO\n"
     ]
    },
    {
     "name": "stdout",
     "output_type": "stream",
     "text": [
      "Total of vowels is 8.\n",
      "A = 2\n",
      "E = 1\n",
      "I = 1\n",
      "O = 3\n",
      "U = 1\n"
     ]
    }
   ],
   "source": [
    "text = str(input(\"Please insert a string, I'll count the number of vowels in it for you: \")).lower()\n",
    "vowels = (\"a\",\"e\",\"i\",\"o\",\"u\")\n",
    "total_vowels = 0\n",
    "for car in text:\n",
    "    if car in vowels:\n",
    "        total_vowels += 1\n",
    "\n",
    "print(f\"Total of vowels is {total_vowels}.\")\n",
    "print(f\"A = {text.count(\"a\")}\")\n",
    "print(f\"E = {text.count(\"e\")}\")\n",
    "print(f\"I = {text.count(\"i\")}\")\n",
    "print(f\"O = {text.count(\"o\")}\")\n",
    "print(f\"U = {text.count(\"u\")}\")"
   ]
  }
 ],
 "metadata": {
  "kernelspec": {
   "display_name": "Python 3 (ipykernel)",
   "language": "python",
   "name": "python3"
  },
  "language_info": {
   "codemirror_mode": {
    "name": "ipython",
    "version": 3
   },
   "file_extension": ".py",
   "mimetype": "text/x-python",
   "name": "python",
   "nbconvert_exporter": "python",
   "pygments_lexer": "ipython3",
   "version": "3.12.4"
  }
 },
 "nbformat": 4,
 "nbformat_minor": 5
}

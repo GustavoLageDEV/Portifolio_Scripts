{
 "cells": [
  {
   "cell_type": "markdown",
   "id": "ef6aad6f-c01f-4777-abdb-cefec2bad17b",
   "metadata": {},
   "source": [
    "**Count Words in a String** - Counts the number of individual words in a string. For added complexity read these strings in from a text file and generate a summary. [[Drhealsgood (Python)]](https://github.com/Drhealsgood/miniprojects/blob/master/text_projects/string_editing.py) [[JLukeC (Python)]](https://github.com/jLukeC/mega-project-list/blob/master/python/count_words.py) "
   ]
  },
  {
   "cell_type": "code",
   "execution_count": 9,
   "id": "a475ce38-f6ad-44f8-a15e-be9ff0737fdd",
   "metadata": {},
   "outputs": [
    {
     "name": "stdin",
     "output_type": "stream",
     "text": [
      "This program will count the amount of words in a string or text file:  1 - String  2 - File.txt  5\n"
     ]
    },
    {
     "name": "stdout",
     "output_type": "stream",
     "text": [
      "Please input: 1 - String  or 2 - File.txt\n"
     ]
    },
    {
     "name": "stdin",
     "output_type": "stream",
     "text": [
      "This program will count the amount of words in a string or text file:  1 - String  2 - File.txt  8\n"
     ]
    },
    {
     "name": "stdout",
     "output_type": "stream",
     "text": [
      "Please input: 1 - String  or 2 - File.txt\n"
     ]
    },
    {
     "name": "stdin",
     "output_type": "stream",
     "text": [
      "This program will count the amount of words in a string or text file:  1 - String  2 - File.txt  s\n",
      "Type in your string:  Meu nome ;e gustavo, sou muito bonito\n"
     ]
    },
    {
     "name": "stdout",
     "output_type": "stream",
     "text": [
      "This string has a total of 7 words.\n"
     ]
    }
   ],
   "source": [
    "def countString():\n",
    "\n",
    "    mystring = input(\"Type in your string: \")\n",
    "    return f\"This string has a total of {len(mystring.split())} words.\"\n",
    "\n",
    "def countText():\n",
    "    \n",
    "    txt_file = input(\"Please input a path to your file: \")\n",
    "    text = open(txt_file, \"r\")\n",
    "    \n",
    "    str_text= text.read()\n",
    "    words_text = str_text.split()\n",
    "    \n",
    "    return f\"This file has a total of {len(words_text)} words.\"\n",
    "\n",
    "if __name__ == \"__main__\":\n",
    "    while True:\n",
    "        choice = input(\"This program will count the amount of words in a string or text file:  1 - String  2 - File.txt \")\n",
    "        if choice == \"1\" or choice[0].lower() == \"s\":\n",
    "            print(countString())\n",
    "            break\n",
    "        elif choice == \"2\" or choice[0].lower() == \"f\":\n",
    "            print(countText())\n",
    "            break\n",
    "        else:\n",
    "            print(\"Please input: 1 - String  or 2 - File.txt\")\n",
    "            continue\n"
   ]
  },
  {
   "cell_type": "code",
   "execution_count": null,
   "id": "72939ed3-21e0-46f6-bbb4-5d2638e0f4af",
   "metadata": {},
   "outputs": [],
   "source": []
  }
 ],
 "metadata": {
  "kernelspec": {
   "display_name": "Python 3 (ipykernel)",
   "language": "python",
   "name": "python3"
  },
  "language_info": {
   "codemirror_mode": {
    "name": "ipython",
    "version": 3
   },
   "file_extension": ".py",
   "mimetype": "text/x-python",
   "name": "python",
   "nbconvert_exporter": "python",
   "pygments_lexer": "ipython3",
   "version": "3.12.4"
  }
 },
 "nbformat": 4,
 "nbformat_minor": 5
}

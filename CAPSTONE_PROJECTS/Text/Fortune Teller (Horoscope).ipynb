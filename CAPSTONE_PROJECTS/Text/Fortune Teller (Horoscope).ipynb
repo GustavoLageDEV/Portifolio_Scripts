{
 "cells": [
  {
   "cell_type": "markdown",
   "id": "f96b2e3d-1327-4a65-ba3e-4c4daa8ef9fa",
   "metadata": {},
   "source": [
    "**Fortune Teller (Horoscope)** - A program that checks your horoscope on various astrology sites and puts them together for you each day. [[cahitonur (Python)]](https://github.com/cahitonur/mini-project/blob/master/horoscope/horoscope.py) [[tapasweni-pathak (Python)]](https://github.com/tapasweni-pathak/Scripts/blob/master/Your-Horoscope.py) \n"
   ]
  },
  {
   "cell_type": "code",
   "execution_count": null,
   "id": "b0a6e93f-ca72-472a-8094-ae10377ede4c",
   "metadata": {},
   "outputs": [],
   "source": [
    "from IPython.display import clear_output\n",
    "import requests, bs4, datetime\n",
    "\n",
    "zodiac_signs={1:\"Aries\",2:\"Taurus\",3:\"Gemini\",4:\"Cancer\",5:\"Leo\",6:\"Virgo\",7:\"Libra\",8:\"Scorpio\",9:\"Sagittarius\",10:\"Capricorn\",11:\"Aquarius\",12:\"Pisces\"}\n",
    "\n",
    "date_to_signs={ \"Aries\": \"March 21 – April 19\",\n",
    "\"Taurus\" : \"April 20 – May 20\",\n",
    "\"Gemini\": \"May 21 – June 21\",\n",
    "\"Cancer\": \"June 22 – July 22\",\n",
    "\"Leo\": \"July 23 – August 22\",\n",
    "\"Virgo\": \"August 23 – September 22\",\n",
    "\"Libra\": \"September 23 – October 23\",\n",
    "\"Scorpio\": \"October 24 – November 21\",\n",
    "\"Sagittarius\": \"November 22 – December 21\",\n",
    "\"Capricorn\": \"December 22 – January 19\",\n",
    "\"Aquarius\": \"January 20 – February 18\",\n",
    "\"Pisces\": \"February 19 – March 20\"\n",
    "}\n",
    "\n",
    "today = datetime.date.today()\n",
    "today_str = f\"{today.strftime(\"%B\")} {today.day}, {today.year}\"\n",
    "\n",
    "def display_signs():\n",
    "    count = 1\n",
    "    for sign, date in date_to_signs.items():\n",
    "        print(f\"{count}: {sign} ({date})\")\n",
    "        count += 1 \n",
    "\n",
    "def request(url):\n",
    "    res = requests.get(url)\n",
    "    return bs4.BeautifulSoup(res.text,\"lxml\")\n",
    "\n",
    "while True:\n",
    "    display_signs()\n",
    "    try:\n",
    "        user_sign_id = int(input(\"\\nChoose a number corresponding to your zodiac sign:\"))\n",
    "        clear_output()\n",
    "        if user_sign_id in zodiac_signs.keys():\n",
    "            user_sign = zodiac_signs[user_sign_id]\n",
    "            print(f\"{user_sign} was chosen.\\n\")\n",
    "            break\n",
    "        else:\n",
    "            print(\"There is not a zodiac sign related to this number, try again.\\n\")\n",
    "            continue\n",
    "    except:\n",
    "        clear_output()\n",
    "        print(\"Incorrect input, try again.\\n\")\n",
    "\n",
    "print(f\"Here are 3 daily horoscopes from different sources for today ({today_str}): \\n\")\n",
    "\n",
    "url_horoscope = f\"https://www.horoscope.com/us/horoscopes/general/horoscope-general-daily-today.aspx?sign={user_sign_id}\"\n",
    "soup1 = request(url_horoscope)\n",
    "daily_horoscope1 = soup1.select(\".main-horoscope>p\")[0].text\n",
    "\n",
    "print(daily_horoscope1)\n",
    "print(f\"\\nSource: {url_horoscope}\\n\")\n",
    "\n",
    "url_astrology = f\"https://www.astrology.com/horoscope/daily/{user_sign.lower()}.html\"\n",
    "soup2 = request(url_astrology)\n",
    "daily_horoscope2 = soup2.select(\"#content>p\")[0].text\n",
    "\n",
    "print(daily_horoscope2)\n",
    "print(f\"\\nSource: {url_astrology}\\n\")\n",
    "\n",
    "url_vogue = f\"https://www.vogue.in/horoscope/product/{user_sign}-horoscope-today-{today.strftime(\"%B\")}-{today.day}-{today.year}/\"\n",
    "soup3 = request(url_vogue)\n",
    "daily_horoscope3 = soup3.select(\".description.mb-20 span\")[0].text\n",
    "\n",
    "print(daily_horoscope3)\n",
    "print(f\"\\nSource: {url_vogue}\")"
   ]
  },
  {
   "cell_type": "code",
   "execution_count": 77,
   "id": "a4ae4be8-3b30-41cd-ace9-f33bf254555d",
   "metadata": {},
   "outputs": [
    {
     "data": {
      "text/plain": [
       "'Aquarius'"
      ]
     },
     "execution_count": 77,
     "metadata": {},
     "output_type": "execute_result"
    }
   ],
   "source": [
    "user_sign"
   ]
  },
  {
   "cell_type": "code",
   "execution_count": 150,
   "id": "30ae0f5d-6986-4817-adcb-9b6459d33d92",
   "metadata": {},
   "outputs": [],
   "source": [
    "url_vogue = f\"https://www.vogue.in/horoscope/product/{user_sign}-horoscope-today-{today.strftime(\"%B\")}-{today.day}-{today.year}/\"\n",
    "\n",
    "res3 = requests.get(url_vogue)\n",
    "soup3 = bs4.BeautifulSoup(res3.text,\"lxml\")\n",
    "\n",
    "date_horoscope3 = soup3.select(\".description.mb-20\")[0].text"
   ]
  },
  {
   "cell_type": "code",
   "execution_count": 182,
   "id": "6ec61e4c-7cba-4247-9a3e-294ee5a91189",
   "metadata": {},
   "outputs": [
    {
     "data": {
      "text/plain": [
       "\"Lo, and behold, Leo! This week, you’re stepping into harvest season stylishly! Pause, breathe and take a look at the blessings that are manifesting around you. You are where you are supposed to be—everything is as it is supposed to be. ‘Course prosperity isn’t just about accumulating wealth—it's about using your resources to make a positive impact. This could be a business that supports sustainable practices, a piece of art that inspires others, or even a philanthropic effort that empowers those in need. Whatever it is, this is the time to lay down the foundations for something meaningful that will withstand the test of time and tide.\""
      ]
     },
     "execution_count": 182,
     "metadata": {},
     "output_type": "execute_result"
    }
   ],
   "source": [
    "soup3.select(\".description.mb-20 span\")[0].text"
   ]
  },
  {
   "cell_type": "code",
   "execution_count": 184,
   "id": "7b251bf8-3d5e-48d2-bdcc-2f4914fd0896",
   "metadata": {},
   "outputs": [
    {
     "data": {
      "text/plain": [
       "\"Sep 26, 2024 - All the positive energy generated by the celestial atmosphere seems to come together today as you experience a rush of sensual passion for a romantic partner, Capricorn. An unexpected encounter could not only fulfill this desire but also bring you closer. If you aren't already committed, expect to discuss it tonight. Be careful to exercise restraint. Your lover could panic if you push too hard.\""
      ]
     },
     "execution_count": 184,
     "metadata": {},
     "output_type": "execute_result"
    }
   ],
   "source": [
    "daily_horoscope1"
   ]
  },
  {
   "cell_type": "code",
   "execution_count": null,
   "id": "ea0bc382-c98c-4e96-8031-0385e5eedb17",
   "metadata": {},
   "outputs": [],
   "source": []
  }
 ],
 "metadata": {
  "kernelspec": {
   "display_name": "Python 3 (ipykernel)",
   "language": "python",
   "name": "python3"
  },
  "language_info": {
   "codemirror_mode": {
    "name": "ipython",
    "version": 3
   },
   "file_extension": ".py",
   "mimetype": "text/x-python",
   "name": "python",
   "nbconvert_exporter": "python",
   "pygments_lexer": "ipython3",
   "version": "3.12.4"
  }
 },
 "nbformat": 4,
 "nbformat_minor": 5
}

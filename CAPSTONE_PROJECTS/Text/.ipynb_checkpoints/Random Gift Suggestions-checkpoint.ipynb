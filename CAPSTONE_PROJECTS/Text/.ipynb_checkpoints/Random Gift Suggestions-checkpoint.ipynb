{
 "cells": [
  {
   "cell_type": "markdown",
   "id": "2da089fa-29b5-4643-baab-ab1301fab870",
   "metadata": {},
   "source": [
    "**Random Gift Suggestions** - Enter various gifts for certain people when you think of them. When its time to give them a gift (xmas, birthday, anniversary) it will randomly pick one. *Optional: Suggest places you can get it (link to Amazon page?).*"
   ]
  },
  {
   "cell_type": "code",
   "execution_count": 63,
   "id": "56b601e6-c9e0-4f98-935b-f50c4fda1bf8",
   "metadata": {},
   "outputs": [
    {
     "name": "stdin",
     "output_type": "stream",
     "text": [
      "Who are we going to gift:  alice\n"
     ]
    },
    {
     "name": "stdout",
     "output_type": "stream",
     "text": [
      "We think Alice would love Iphone as a gift\n"
     ]
    }
   ],
   "source": [
    "import random as r\n",
    "import requests, lxml, bs4\n",
    "\n",
    "database = {\"alice\":[\"Viagem\",\"Iphone\",\"Batata\"],\"pai\":[\"camisa cruzeiro\",\"relogio\", \"cerveja\"],\n",
    "             \"mae\":[\"Plantas\",\"Perfume\",\"vasos\"],\"bartolomeu\":[\"Osso para cachorro\",\"Petiscos cachorro\",\"Roupa canina\"]}\n",
    "def gift_to():\n",
    "    while True:\n",
    "        person = input(\"Who are we going to gift: \")\n",
    "        if person.lower() not in database:\n",
    "            print(\"This person is not on our database\")\n",
    "            continue\n",
    "        else:\n",
    "             return person   \n",
    "\n",
    "def search_gift(gift): # WEB SCRAPING A GOOGLE SERP FOR THE FIRST 3 ORGANIC RESULTS, SO WE CAN SUGGEST (WORKING IN PROGRESS)\n",
    "\n",
    "    research = requests.get(f\"https://www.google.com/search?gl=us&q={gift}\")\n",
    "    soup = bs4.BeautifulSoup(research.text,\"lxml\")\n",
    "    \n",
    "    pass\n",
    "\n",
    "if __name__ == \"__main__\":\n",
    "    \n",
    "    person = gift_to() \n",
    "    g_list = database[person]\n",
    "    gift = g_list[r.randint(1,len(g_list))-1]\n",
    "\n",
    "    print(f\"We think {person.capitalize()} would love {gift} as a gift\")"
   ]
  },
  {
   "cell_type": "code",
   "execution_count": null,
   "id": "78d9eb5b-6838-4e03-84c7-c514b911043a",
   "metadata": {},
   "outputs": [],
   "source": []
  }
 ],
 "metadata": {
  "kernelspec": {
   "display_name": "Python 3 (ipykernel)",
   "language": "python",
   "name": "python3"
  },
  "language_info": {
   "codemirror_mode": {
    "name": "ipython",
    "version": 3
   },
   "file_extension": ".py",
   "mimetype": "text/x-python",
   "name": "python",
   "nbconvert_exporter": "python",
   "pygments_lexer": "ipython3",
   "version": "3.12.4"
  }
 },
 "nbformat": 4,
 "nbformat_minor": 5
}
